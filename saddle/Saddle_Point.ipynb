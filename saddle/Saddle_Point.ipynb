{
 "cells": [
  {
   "cell_type": "code",
   "execution_count": 2209,
   "metadata": {},
   "outputs": [],
   "source": [
    "import numpy as np\n",
    "import sklearn as sk\n",
    "import pandas as pd\n",
    "import matplotlib as mp\n",
    "import os\n",
    "import uuid"
   ]
  },
  {
   "cell_type": "code",
   "execution_count": 2210,
   "metadata": {},
   "outputs": [],
   "source": [
    "class Constantes:\n",
    "    TAMAÑO: int = 4"
   ]
  },
  {
   "cell_type": "code",
   "execution_count": 2211,
   "metadata": {},
   "outputs": [],
   "source": [
    "class Tinta:\n",
    "    BLUE = '\\033[94m'\n",
    "    CYAN = '\\033[96m'\n",
    "    GREEN = '\\033[92m'\n",
    "    ORANGE = '\\033[93m'\n",
    "    RED = '\\033[91m'\n",
    "    BLACK = '\\033[0m'"
   ]
  },
  {
   "cell_type": "code",
   "execution_count": 2212,
   "metadata": {},
   "outputs": [],
   "source": [
    "class Celda:\n",
    "    def __init__(self, columna: int = 0, fila: int = 0, valor: int = 0, silla: bool = False) -> None:\n",
    "        self.id = str(uuid.uuid1().hex)\n",
    "        self.columna = columna\n",
    "        self.fila = fila\n",
    "        self.valor = valor\n",
    "        self.silla = silla\n",
    "\n",
    "    def __str__(self) -> str:\n",
    "        if self.silla:\n",
    "            return Tinta.GREEN + f\" {self.valor} \" + Tinta.BLACK\n",
    "        else:\n",
    "            return Tinta.RED + f\" {self.valor} \" + Tinta.BLACK"
   ]
  },
  {
   "cell_type": "code",
   "execution_count": 2213,
   "metadata": {},
   "outputs": [],
   "source": [
    "class Rejilla:\n",
    "    def __init__(self) -> None:\n",
    "        self.celdas: list[Celda] = []\n",
    "\n",
    "        for i in range(Constantes.TAMAÑO):\n",
    "            for j in range(Constantes.TAMAÑO):\n",
    "                self.celdas.append(Celda(i, j, np.random.randint(100)))\n",
    "\n",
    "    def __str__(self) -> str:\n",
    "        rst: str = \"\"\n",
    "\n",
    "        for fila in range(Constantes.TAMAÑO):\n",
    "            for columna in range(Constantes.TAMAÑO):\n",
    "                celda: Celda = next(filter(\n",
    "                    lambda item: item.fila == fila and item.columna == columna, self.celdas), None)\n",
    "\n",
    "                rst = rst + celda.__str__()\n",
    "\n",
    "                if columna == range(Constantes.TAMAÑO)[-1]:\n",
    "                    rst = f\"{rst}{os.linesep}\"\n",
    "\n",
    "        return rst\n",
    "\n",
    "    def __get_saddle_points__(self) -> str:\n",
    "\n",
    "        puntos: list[Celda] = []\n",
    "\n",
    "        for fila in range(Constantes.TAMAÑO):\n",
    "\n",
    "            fila_lista = list(\n",
    "                filter(lambda item: item.fila == fila, self.celdas))\n",
    "\n",
    "            fila_minimo = min(fila_lista, key=lambda x: x.valor)\n",
    "            \n",
    "            fila_maximo = max(fila_lista, key=lambda x: x.valor)\n",
    "\n",
    "            for columna in range(Constantes.TAMAÑO):\n",
    "\n",
    "                columna_lista = list(\n",
    "                    filter(lambda item: item.columna == columna, self.celdas))\n",
    "\n",
    "                columna_maximo = max(columna_lista, key=lambda x: x.valor)\n",
    "                \n",
    "                columna_minimo = min(columna_lista, key=lambda x: x.valor)\n",
    "\n",
    "                if ((fila_minimo.id == columna_maximo.id) or (fila_maximo.id == columna_minimo.id)):\n",
    "                    puntos.append(fila_minimo)\n",
    "\n",
    "        if (puntos):\n",
    "            for punto in puntos:\n",
    "\n",
    "                idx = list(map(lambda item: item.id ==\n",
    "                           punto.id, self.celdas)).index(True)\n",
    "\n",
    "                if (idx):\n",
    "                    self.celdas[idx].silla = True\n",
    "\n",
    "        return self.__str__()"
   ]
  },
  {
   "cell_type": "code",
   "execution_count": 2309,
   "metadata": {},
   "outputs": [
    {
     "name": "stdout",
     "output_type": "stream",
     "text": [
      "\u001b[91m 15 \u001b[0m\u001b[91m 28 \u001b[0m\u001b[91m 32 \u001b[0m\u001b[91m 50 \u001b[0m\n",
      "\u001b[91m 52 \u001b[0m\u001b[91m 79 \u001b[0m\u001b[91m 46 \u001b[0m\u001b[91m 59 \u001b[0m\n",
      "\u001b[91m 86 \u001b[0m\u001b[91m 94 \u001b[0m\u001b[91m 68 \u001b[0m\u001b[91m 78 \u001b[0m\n",
      "\u001b[91m 7 \u001b[0m\u001b[91m 11 \u001b[0m\u001b[91m 70 \u001b[0m\u001b[91m 72 \u001b[0m\n",
      "\n"
     ]
    }
   ],
   "source": [
    "rejilla = Rejilla()\n",
    "print(rejilla.__get_saddle_points__())"
   ]
  }
 ],
 "metadata": {
  "kernelspec": {
   "display_name": "Python 3",
   "language": "python",
   "name": "python3"
  },
  "language_info": {
   "codemirror_mode": {
    "name": "ipython",
    "version": 3
   },
   "file_extension": ".py",
   "mimetype": "text/x-python",
   "name": "python",
   "nbconvert_exporter": "python",
   "pygments_lexer": "ipython3",
   "version": "3.10.12"
  }
 },
 "nbformat": 4,
 "nbformat_minor": 2
}
